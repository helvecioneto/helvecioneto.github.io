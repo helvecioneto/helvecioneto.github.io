{
 "cells": [
  {
   "cell_type": "code",
   "execution_count": null,
   "metadata": {},
   "outputs": [],
   "source": [
    "from functions import *\n",
    "\n",
    "import numpy as np\n",
    "import xarray as xr\n",
    "\n",
    "import holoviews as hv\n",
    "import geoviews as gv\n",
    "from geoviews import opts\n",
    "from cartopy import crs\n",
    "\n",
    "gv.extension('bokeh', 'matplotlib')\n",
    "\n",
    "\n",
    "%load_ext autoreload\n",
    "%autoreload 2"
   ]
  },
  {
   "cell_type": "code",
   "execution_count": null,
   "metadata": {},
   "outputs": [],
   "source": [
    "DATA_PATH = '/home/helvecioneto/disco1/dados/goes16/mmh/'\n",
    "DATA_NAME = 'goes16'\n",
    "DATA_PATTERN = '%%YYYY%%mm%%dd_%%HH%%MM.nc'\n",
    "TRACK_PATH = '/home/helvecioneto/disco1/tracks/goes16mmh/track/'\n",
    "FORECAST_PATH = '/home/helvecioneto/disco1/tracks/goes16mmh/forecast/'\n",
    "TIME_DELTA = '10min'\n",
    "LAST_IMAGES = 5\n",
    "LAT_MIN = -56\n",
    "LAT_MAX = 35\n",
    "LON_MIN = -116\n",
    "LON_MAX = -25\n",
    "X_DIM = 910\n",
    "Y_DIM = 910"
   ]
  },
  {
   "cell_type": "code",
   "execution_count": null,
   "metadata": {},
   "outputs": [],
   "source": [
    "# PATHS\n",
    "timestamp = get_latest_timestamp(TRACK_PATH)\n",
    "\n",
    "pth_trck_bound, pth_trck_vec, pth_trck_trj = get_geotrack_paths(timestamp,TRACK_PATH)\n",
    "pth_fcst_bound, pth_fcst_vec, pth_fcst_trj = get_geofrcst_paths(timestamp, 1, TIME_DELTA, FORECAST_PATH, )\n",
    "\n",
    "\n",
    "trck_bound = read_geoframe(pth_trck_bound)\n",
    "trck_vec = read_geoframe(pth_trck_vec)\n",
    "trck_trj = read_geoframe(pth_trck_trj)\n",
    "fcst_bound = read_geoframe(pth_fcst_bound)\n",
    "fcst_vec = read_geoframe(pth_fcst_vec)\n",
    "fcst_trj = read_geoframe(pth_fcst_trj)"
   ]
  },
  {
   "cell_type": "code",
   "execution_count": null,
   "metadata": {},
   "outputs": [],
   "source": [
    "coords_array = True\n",
    "\n",
    "data_array = np.full((LAST_IMAGES, X_DIM, Y_DIM),np.nan, dtype=np.float32)\n",
    "timestamp_list = []\n",
    "\n",
    "for i in range(LAST_IMAGES, 0, -1):\n",
    "    path_stamp = timestamp - pd.Timedelta(TIME_DELTA * (i))\n",
    "    data_path = get_data_paths(path_stamp, DATA_PATH+path_stamp.strftime('%Y/%m/%d/'), DATA_PATTERN)\n",
    "    read_func = read_data(DATA_NAME)\n",
    "\n",
    "    try:\n",
    "        data = read_func(data_path)\n",
    "    except:\n",
    "        data = np.full((X_DIM, Y_DIM),np.nan, dtype=np.float32)\n",
    "\n",
    "    if coords_array:\n",
    "        lat = np.linspace(LAT_MIN, LAT_MAX, X_DIM)\n",
    "        lon = np.linspace(LON_MIN, LON_MAX, Y_DIM)\n",
    "        # lat = xr.DataArray(lat, dims=('lat'))\n",
    "        # lon = xr.DataArray(lon, dims=('lon'))\n",
    "        coords_array = False\n",
    "\n",
    "    # Op in data\n",
    "    data = data * 100\n",
    "    data[data == 0] = np.nan\n",
    "    # Add to array\n",
    "    data_array[LAST_IMAGES-i] = data\n",
    "    # Add to timestamp list\n",
    "    timestamp_list.append(path_stamp)\n",
    "\n",
    "\n",
    "# Create a xr.DataArray with the data, timestamps, lat and lon\n",
    "data_xarray = xr.DataArray(data_array, coords=[timestamp_list, lat, lon], dims=['time', 'lat', 'lon'])\n",
    "data_xarray.name = 'data'\n",
    "\n",
    "kdims = ['time','lon', 'lat']\n",
    "vdims = ['data']\n",
    "\n",
    "# Create a HoloViews Dataset\n",
    "data_set = gv.Dataset(data_xarray, kdims=kdims, vdims=vdims)\n"
   ]
  },
  {
   "cell_type": "code",
   "execution_count": null,
   "metadata": {},
   "outputs": [],
   "source": [
    "# Create a gv image\n",
    "threshold_image = data_set.to(gv.Image, ['lon', 'lat'])"
   ]
  },
  {
   "cell_type": "code",
   "execution_count": null,
   "metadata": {},
   "outputs": [],
   "source": [
    "background = hv.element.tiles.StamenTerrainRetina()"
   ]
  },
  {
   "cell_type": "code",
   "execution_count": null,
   "metadata": {},
   "outputs": [],
   "source": [
    "imag_plot = background * threshold_image"
   ]
  },
  {
   "cell_type": "code",
   "execution_count": null,
   "metadata": {},
   "outputs": [],
   "source": [
    "imag_plot = imag_plot.opts(\n",
    "    opts.Image(cmap='turbo', colorbar=True, tools=['hover'], width=800, height=600),\n",
    "    opts.Overlay()\n",
    ")"
   ]
  },
  {
   "cell_type": "code",
   "execution_count": null,
   "metadata": {},
   "outputs": [],
   "source": [
    "imag_plot"
   ]
  },
  {
   "cell_type": "code",
   "execution_count": null,
   "metadata": {},
   "outputs": [],
   "source": [
    "# save to html\n",
    "hv.save(imag_plot, '/home/helvecioneto/plot.html')"
   ]
  },
  {
   "cell_type": "code",
   "execution_count": null,
   "metadata": {},
   "outputs": [],
   "source": [
    "# # Create an xarray dataseta\n",
    "\n",
    "# data = xr.DataArray(data, coords=[lat, lon], dims=['lat', 'lon'])\n",
    "# data.name = 'data'\n",
    "# data.attrs['crs'] = 'EPSG:4326'\n",
    "# data.attrs['extent'] = (LON_MIN, LON_MAX, LAT_MIN, LAT_MAX)\n",
    "# dataset = gv.Dataset(data, crs=crs.PlateCarree(), kdims=['lon', 'lat'], vdims=['data'])"
   ]
  },
  {
   "cell_type": "code",
   "execution_count": null,
   "metadata": {},
   "outputs": [],
   "source": [
    "# threhold_image = gv.Image(dataset, ['lon', 'lat'], ['data'])\n",
    "# background = hv.element.tiles.StamenTerrainRetina()"
   ]
  },
  {
   "cell_type": "code",
   "execution_count": null,
   "metadata": {},
   "outputs": [],
   "source": [
    "# Save html\n",
    "hv.save(imag_plot, '/var/www/html/helvecioneto.github.io/trackboard/index.html', backend='bokeh')"
   ]
  },
  {
   "cell_type": "code",
   "execution_count": null,
   "metadata": {},
   "outputs": [],
   "source": []
  }
 ],
 "metadata": {
  "kernelspec": {
   "display_name": "pyfortrack",
   "language": "python",
   "name": "python3"
  },
  "language_info": {
   "codemirror_mode": {
    "name": "ipython",
    "version": 3
   },
   "file_extension": ".py",
   "mimetype": "text/x-python",
   "name": "python",
   "nbconvert_exporter": "python",
   "pygments_lexer": "ipython3",
   "version": "3.10.8"
  },
  "orig_nbformat": 4,
  "vscode": {
   "interpreter": {
    "hash": "48ef6ef79c1e9a18a60d81d189cbe8aa70fcd759028160d21e405de87df264b3"
   }
  }
 },
 "nbformat": 4,
 "nbformat_minor": 2
}
