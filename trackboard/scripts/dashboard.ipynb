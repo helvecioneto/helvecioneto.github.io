{
 "cells": [
  {
   "cell_type": "code",
   "execution_count": 10,
   "metadata": {},
   "outputs": [],
   "source": [
    "from functions import *\n",
    "\n",
    "%load_ext autoreload\n",
    "%autoreload 2"
   ]
  },
  {
   "cell_type": "code",
   "execution_count": 41,
   "metadata": {},
   "outputs": [],
   "source": [
    "DATA_PATH = '/home/helvecioneto/disco1/dados/goes16/mmh/'\n",
    "DATA_NAME = 'goes16'\n",
    "DATA_PATTERN = '%%YYYY%%mm%%dd_%%HH%%MM.nc'\n",
    "TRACK_PATH = '/home/helvecioneto/disco1/tracks/goes16mmh/track/'\n",
    "FORECAST_PATH = '/home/helvecioneto/disco1/tracks/goes16mmh/forecast/'\n",
    "TIME_DELTA = '10min'"
   ]
  },
  {
   "cell_type": "code",
   "execution_count": 12,
   "metadata": {},
   "outputs": [],
   "source": [
    "# PATHS\n",
    "timestamp = get_latest_timestamp(TRACK_PATH)\n",
    "pth_trck_bound, pth_trck_vec, pth_trck_trj = get_geotrack_paths(TRACK_PATH, timestamp)\n",
    "pth_fcst_bound, pth_fcst_vec, pth_fcst_trj = get_geofrcst_paths(FORECAST_PATH, timestamp, TIME_DELTA, 1)\n",
    "data_path = get_data_paths(timestamp, DATA_PATH+timestamp.strftime('%Y/%m/%d/'), DATA_PATTERN)"
   ]
  },
  {
   "cell_type": "code",
   "execution_count": 45,
   "metadata": {},
   "outputs": [],
   "source": [
    "# READ\n",
    "data = read_data(DATA_NAME)(data_path)\n",
    "trck_bound = read_geoframe(pth_trck_bound)\n",
    "trck_vec = read_geoframe(pth_trck_vec)\n",
    "trck_trj = read_geoframe(pth_trck_trj)\n",
    "fcst_bound = read_geoframe(pth_fcst_bound)\n",
    "fcst_vec = read_geoframe(pth_fcst_vec)\n",
    "fcst_trj = read_geoframe(pth_fcst_trj)\n"
   ]
  },
  {
   "cell_type": "code",
   "execution_count": null,
   "metadata": {},
   "outputs": [],
   "source": []
  }
 ],
 "metadata": {
  "kernelspec": {
   "display_name": "pyfortrack",
   "language": "python",
   "name": "python3"
  },
  "language_info": {
   "codemirror_mode": {
    "name": "ipython",
    "version": 3
   },
   "file_extension": ".py",
   "mimetype": "text/x-python",
   "name": "python",
   "nbconvert_exporter": "python",
   "pygments_lexer": "ipython3",
   "version": "3.10.8"
  },
  "orig_nbformat": 4,
  "vscode": {
   "interpreter": {
    "hash": "48ef6ef79c1e9a18a60d81d189cbe8aa70fcd759028160d21e405de87df264b3"
   }
  }
 },
 "nbformat": 4,
 "nbformat_minor": 2
}
