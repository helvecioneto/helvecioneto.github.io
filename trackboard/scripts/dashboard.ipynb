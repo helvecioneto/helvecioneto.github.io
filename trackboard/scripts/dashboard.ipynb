{
 "cells": [
  {
   "cell_type": "code",
   "execution_count": 3,
   "metadata": {},
   "outputs": [],
   "source": [
    "from functions import *\n",
    "\n",
    "%load_ext autoreload\n",
    "%autoreload 2"
   ]
  },
  {
   "cell_type": "code",
   "execution_count": 4,
   "metadata": {},
   "outputs": [],
   "source": [
    "DATA_PATH = '/home/helvecioneto/disco1/dados/goes16/mmh/'\n",
    "DATA_NAME = 'goes16'\n",
    "DATA_PATTERN = '%%YYYY%%mm%%dd_%%HH%%MM.nc'\n",
    "TRACK_PATH = '/home/helvecioneto/disco1/tracks/goes16mmh/track/'\n",
    "FORECAST_PATH = '/home/helvecioneto/disco1/tracks/goes16mmh/forecast/'\n",
    "TIME_DELTA = '10min'"
   ]
  },
  {
   "cell_type": "code",
   "execution_count": 5,
   "metadata": {},
   "outputs": [],
   "source": [
    "# PATHS\n",
    "timestamp = get_latest_timestamp(TRACK_PATH)\n",
    "pth_trck_bound, pth_trck_vec, pth_trck_trj = get_geotrack_paths(TRACK_PATH, timestamp)\n",
    "pth_fcst_bound, pth_fcst_vec, pth_fcst_trj = get_geofrcst_paths(FORECAST_PATH, timestamp, TIME_DELTA, 1)\n",
    "data_path = get_data_paths(timestamp, DATA_PATH+timestamp.strftime('%Y/%m/%d/'), DATA_PATTERN)"
   ]
  },
  {
   "cell_type": "code",
   "execution_count": 6,
   "metadata": {},
   "outputs": [],
   "source": [
    "# READ\n",
    "data = read_data(DATA_NAME)(data_path)\n",
    "trck_bound = read_geoframe(pth_trck_bound)\n",
    "trck_vec = read_geoframe(pth_trck_vec)\n",
    "trck_trj = read_geoframe(pth_trck_trj)\n",
    "fcst_bound = read_geoframe(pth_fcst_bound)\n",
    "fcst_vec = read_geoframe(pth_fcst_vec)\n",
    "fcst_trj = read_geoframe(pth_fcst_trj)\n"
   ]
  },
  {
   "cell_type": "code",
   "execution_count": 98,
   "metadata": {},
   "outputs": [],
   "source": [
    "import plotly.graph_objects as go\n",
    "import xarray as xr\n",
    "import plotly.express as px\n",
    "import datashader as ds\n",
    "import datashader.transfer_functions as tf\n",
    "from colorcet import rainbow\n",
    "import numpy as np"
   ]
  },
  {
   "cell_type": "code",
   "execution_count": 107,
   "metadata": {},
   "outputs": [],
   "source": [
    "# Read data_path using xarray\n",
    "dset = xr.open_dataset(data_path)\n",
    "# Convert xarray to dataset\n",
    "df = dset.to_dataframe()\n",
    "# Remove NaN values\n",
    "df = df.dropna().reset_index()\n",
    "# Convert dataset to datashader format\n",
    "cvs = ds.Canvas(plot_width=910, plot_height=910)\n",
    "agg = cvs.points(df, 'lon', 'lat')\n",
    "coords_lat, coords_lon = agg.coords['lat'].values, agg.coords['lon'].values\n",
    "coordinates = [[coords_lon[0], coords_lat[0]],\n",
    "               [coords_lon[-1], coords_lat[0]],\n",
    "               [coords_lon[-1], coords_lat[-1]],\n",
    "               [coords_lon[0], coords_lat[-1]]]\n",
    "img = tf.shade(agg, cmap=rainbow)[::-1].to_pil()"
   ]
  },
  {
   "cell_type": "code",
   "execution_count": 108,
   "metadata": {},
   "outputs": [
    {
     "data": {
      "application/vnd.plotly.v1+json": {
       "config": {
        "plotlyServerURL": "https://plot.ly"
       },
       "data": [
        {
         "hovertemplate": "lat=%{lat}<br>lon=%{lon}<extra></extra>",
         "lat": [
          -55.95
         ],
         "legendgroup": "",
         "lon": [
          -103.35
         ],
         "marker": {
          "color": "#636efa"
         },
         "mode": "markers",
         "name": "",
         "showlegend": false,
         "subplot": "mapbox",
         "type": "scattermapbox"
        }
       ],
       "layout": {
        "height": 600,
        "legend": {
         "tracegroupgap": 0
        },
        "mapbox": {
         "center": {
          "lat": -20,
          "lon": -50
         },
         "domain": {
          "x": [
           0,
           1
          ],
          "y": [
           0,
           1
          ]
         },
         "layers": [
          {
           "coordinates": [
            [
             -115.90005494505496,
             -55.90005494505495
            ],
            [
             -25.09994505494507,
             -55.90005494505495
            ],
            [
             -25.09994505494507,
             34.90005494505495
            ],
            [
             -115.90005494505496,
             34.90005494505495
            ]
           ],
           "source": "data:image/png;base64,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",
           "sourcetype": "image"
          }
         ],
         "style": "stamen-terrain",
         "zoom": 3
        },
        "margin": {
         "b": 0,
         "l": 100,
         "pad": 0,
         "r": 0,
         "t": 40
        },
        "template": {
         "data": {
          "bar": [
           {
            "error_x": {
             "color": "#2a3f5f"
            },
            "error_y": {
             "color": "#2a3f5f"
            },
            "marker": {
             "line": {
              "color": "#E5ECF6",
              "width": 0.5
             },
             "pattern": {
              "fillmode": "overlay",
              "size": 10,
              "solidity": 0.2
             }
            },
            "type": "bar"
           }
          ],
          "barpolar": [
           {
            "marker": {
             "line": {
              "color": "#E5ECF6",
              "width": 0.5
             },
             "pattern": {
              "fillmode": "overlay",
              "size": 10,
              "solidity": 0.2
             }
            },
            "type": "barpolar"
           }
          ],
          "carpet": [
           {
            "aaxis": {
             "endlinecolor": "#2a3f5f",
             "gridcolor": "white",
             "linecolor": "white",
             "minorgridcolor": "white",
             "startlinecolor": "#2a3f5f"
            },
            "baxis": {
             "endlinecolor": "#2a3f5f",
             "gridcolor": "white",
             "linecolor": "white",
             "minorgridcolor": "white",
             "startlinecolor": "#2a3f5f"
            },
            "type": "carpet"
           }
          ],
          "choropleth": [
           {
            "colorbar": {
             "outlinewidth": 0,
             "ticks": ""
            },
            "type": "choropleth"
           }
          ],
          "contour": [
           {
            "colorbar": {
             "outlinewidth": 0,
             "ticks": ""
            },
            "colorscale": [
             [
              0,
              "#0d0887"
             ],
             [
              0.1111111111111111,
              "#46039f"
             ],
             [
              0.2222222222222222,
              "#7201a8"
             ],
             [
              0.3333333333333333,
              "#9c179e"
             ],
             [
              0.4444444444444444,
              "#bd3786"
             ],
             [
              0.5555555555555556,
              "#d8576b"
             ],
             [
              0.6666666666666666,
              "#ed7953"
             ],
             [
              0.7777777777777778,
              "#fb9f3a"
             ],
             [
              0.8888888888888888,
              "#fdca26"
             ],
             [
              1,
              "#f0f921"
             ]
            ],
            "type": "contour"
           }
          ],
          "contourcarpet": [
           {
            "colorbar": {
             "outlinewidth": 0,
             "ticks": ""
            },
            "type": "contourcarpet"
           }
          ],
          "heatmap": [
           {
            "colorbar": {
             "outlinewidth": 0,
             "ticks": ""
            },
            "colorscale": [
             [
              0,
              "#0d0887"
             ],
             [
              0.1111111111111111,
              "#46039f"
             ],
             [
              0.2222222222222222,
              "#7201a8"
             ],
             [
              0.3333333333333333,
              "#9c179e"
             ],
             [
              0.4444444444444444,
              "#bd3786"
             ],
             [
              0.5555555555555556,
              "#d8576b"
             ],
             [
              0.6666666666666666,
              "#ed7953"
             ],
             [
              0.7777777777777778,
              "#fb9f3a"
             ],
             [
              0.8888888888888888,
              "#fdca26"
             ],
             [
              1,
              "#f0f921"
             ]
            ],
            "type": "heatmap"
           }
          ],
          "heatmapgl": [
           {
            "colorbar": {
             "outlinewidth": 0,
             "ticks": ""
            },
            "colorscale": [
             [
              0,
              "#0d0887"
             ],
             [
              0.1111111111111111,
              "#46039f"
             ],
             [
              0.2222222222222222,
              "#7201a8"
             ],
             [
              0.3333333333333333,
              "#9c179e"
             ],
             [
              0.4444444444444444,
              "#bd3786"
             ],
             [
              0.5555555555555556,
              "#d8576b"
             ],
             [
              0.6666666666666666,
              "#ed7953"
             ],
             [
              0.7777777777777778,
              "#fb9f3a"
             ],
             [
              0.8888888888888888,
              "#fdca26"
             ],
             [
              1,
              "#f0f921"
             ]
            ],
            "type": "heatmapgl"
           }
          ],
          "histogram": [
           {
            "marker": {
             "pattern": {
              "fillmode": "overlay",
              "size": 10,
              "solidity": 0.2
             }
            },
            "type": "histogram"
           }
          ],
          "histogram2d": [
           {
            "colorbar": {
             "outlinewidth": 0,
             "ticks": ""
            },
            "colorscale": [
             [
              0,
              "#0d0887"
             ],
             [
              0.1111111111111111,
              "#46039f"
             ],
             [
              0.2222222222222222,
              "#7201a8"
             ],
             [
              0.3333333333333333,
              "#9c179e"
             ],
             [
              0.4444444444444444,
              "#bd3786"
             ],
             [
              0.5555555555555556,
              "#d8576b"
             ],
             [
              0.6666666666666666,
              "#ed7953"
             ],
             [
              0.7777777777777778,
              "#fb9f3a"
             ],
             [
              0.8888888888888888,
              "#fdca26"
             ],
             [
              1,
              "#f0f921"
             ]
            ],
            "type": "histogram2d"
           }
          ],
          "histogram2dcontour": [
           {
            "colorbar": {
             "outlinewidth": 0,
             "ticks": ""
            },
            "colorscale": [
             [
              0,
              "#0d0887"
             ],
             [
              0.1111111111111111,
              "#46039f"
             ],
             [
              0.2222222222222222,
              "#7201a8"
             ],
             [
              0.3333333333333333,
              "#9c179e"
             ],
             [
              0.4444444444444444,
              "#bd3786"
             ],
             [
              0.5555555555555556,
              "#d8576b"
             ],
             [
              0.6666666666666666,
              "#ed7953"
             ],
             [
              0.7777777777777778,
              "#fb9f3a"
             ],
             [
              0.8888888888888888,
              "#fdca26"
             ],
             [
              1,
              "#f0f921"
             ]
            ],
            "type": "histogram2dcontour"
           }
          ],
          "mesh3d": [
           {
            "colorbar": {
             "outlinewidth": 0,
             "ticks": ""
            },
            "type": "mesh3d"
           }
          ],
          "parcoords": [
           {
            "line": {
             "colorbar": {
              "outlinewidth": 0,
              "ticks": ""
             }
            },
            "type": "parcoords"
           }
          ],
          "pie": [
           {
            "automargin": true,
            "type": "pie"
           }
          ],
          "scatter": [
           {
            "fillpattern": {
             "fillmode": "overlay",
             "size": 10,
             "solidity": 0.2
            },
            "type": "scatter"
           }
          ],
          "scatter3d": [
           {
            "line": {
             "colorbar": {
              "outlinewidth": 0,
              "ticks": ""
             }
            },
            "marker": {
             "colorbar": {
              "outlinewidth": 0,
              "ticks": ""
             }
            },
            "type": "scatter3d"
           }
          ],
          "scattercarpet": [
           {
            "marker": {
             "colorbar": {
              "outlinewidth": 0,
              "ticks": ""
             }
            },
            "type": "scattercarpet"
           }
          ],
          "scattergeo": [
           {
            "marker": {
             "colorbar": {
              "outlinewidth": 0,
              "ticks": ""
             }
            },
            "type": "scattergeo"
           }
          ],
          "scattergl": [
           {
            "marker": {
             "colorbar": {
              "outlinewidth": 0,
              "ticks": ""
             }
            },
            "type": "scattergl"
           }
          ],
          "scattermapbox": [
           {
            "marker": {
             "colorbar": {
              "outlinewidth": 0,
              "ticks": ""
             }
            },
            "type": "scattermapbox"
           }
          ],
          "scatterpolar": [
           {
            "marker": {
             "colorbar": {
              "outlinewidth": 0,
              "ticks": ""
             }
            },
            "type": "scatterpolar"
           }
          ],
          "scatterpolargl": [
           {
            "marker": {
             "colorbar": {
              "outlinewidth": 0,
              "ticks": ""
             }
            },
            "type": "scatterpolargl"
           }
          ],
          "scatterternary": [
           {
            "marker": {
             "colorbar": {
              "outlinewidth": 0,
              "ticks": ""
             }
            },
            "type": "scatterternary"
           }
          ],
          "surface": [
           {
            "colorbar": {
             "outlinewidth": 0,
             "ticks": ""
            },
            "colorscale": [
             [
              0,
              "#0d0887"
             ],
             [
              0.1111111111111111,
              "#46039f"
             ],
             [
              0.2222222222222222,
              "#7201a8"
             ],
             [
              0.3333333333333333,
              "#9c179e"
             ],
             [
              0.4444444444444444,
              "#bd3786"
             ],
             [
              0.5555555555555556,
              "#d8576b"
             ],
             [
              0.6666666666666666,
              "#ed7953"
             ],
             [
              0.7777777777777778,
              "#fb9f3a"
             ],
             [
              0.8888888888888888,
              "#fdca26"
             ],
             [
              1,
              "#f0f921"
             ]
            ],
            "type": "surface"
           }
          ],
          "table": [
           {
            "cells": {
             "fill": {
              "color": "#EBF0F8"
             },
             "line": {
              "color": "white"
             }
            },
            "header": {
             "fill": {
              "color": "#C8D4E3"
             },
             "line": {
              "color": "white"
             }
            },
            "type": "table"
           }
          ]
         },
         "layout": {
          "annotationdefaults": {
           "arrowcolor": "#2a3f5f",
           "arrowhead": 0,
           "arrowwidth": 1
          },
          "autotypenumbers": "strict",
          "coloraxis": {
           "colorbar": {
            "outlinewidth": 0,
            "ticks": ""
           }
          },
          "colorscale": {
           "diverging": [
            [
             0,
             "#8e0152"
            ],
            [
             0.1,
             "#c51b7d"
            ],
            [
             0.2,
             "#de77ae"
            ],
            [
             0.3,
             "#f1b6da"
            ],
            [
             0.4,
             "#fde0ef"
            ],
            [
             0.5,
             "#f7f7f7"
            ],
            [
             0.6,
             "#e6f5d0"
            ],
            [
             0.7,
             "#b8e186"
            ],
            [
             0.8,
             "#7fbc41"
            ],
            [
             0.9,
             "#4d9221"
            ],
            [
             1,
             "#276419"
            ]
           ],
           "sequential": [
            [
             0,
             "#0d0887"
            ],
            [
             0.1111111111111111,
             "#46039f"
            ],
            [
             0.2222222222222222,
             "#7201a8"
            ],
            [
             0.3333333333333333,
             "#9c179e"
            ],
            [
             0.4444444444444444,
             "#bd3786"
            ],
            [
             0.5555555555555556,
             "#d8576b"
            ],
            [
             0.6666666666666666,
             "#ed7953"
            ],
            [
             0.7777777777777778,
             "#fb9f3a"
            ],
            [
             0.8888888888888888,
             "#fdca26"
            ],
            [
             1,
             "#f0f921"
            ]
           ],
           "sequentialminus": [
            [
             0,
             "#0d0887"
            ],
            [
             0.1111111111111111,
             "#46039f"
            ],
            [
             0.2222222222222222,
             "#7201a8"
            ],
            [
             0.3333333333333333,
             "#9c179e"
            ],
            [
             0.4444444444444444,
             "#bd3786"
            ],
            [
             0.5555555555555556,
             "#d8576b"
            ],
            [
             0.6666666666666666,
             "#ed7953"
            ],
            [
             0.7777777777777778,
             "#fb9f3a"
            ],
            [
             0.8888888888888888,
             "#fdca26"
            ],
            [
             1,
             "#f0f921"
            ]
           ]
          },
          "colorway": [
           "#636efa",
           "#EF553B",
           "#00cc96",
           "#ab63fa",
           "#FFA15A",
           "#19d3f3",
           "#FF6692",
           "#B6E880",
           "#FF97FF",
           "#FECB52"
          ],
          "font": {
           "color": "#2a3f5f"
          },
          "geo": {
           "bgcolor": "white",
           "lakecolor": "white",
           "landcolor": "#E5ECF6",
           "showlakes": true,
           "showland": true,
           "subunitcolor": "white"
          },
          "hoverlabel": {
           "align": "left"
          },
          "hovermode": "closest",
          "mapbox": {
           "style": "light"
          },
          "paper_bgcolor": "white",
          "plot_bgcolor": "#E5ECF6",
          "polar": {
           "angularaxis": {
            "gridcolor": "white",
            "linecolor": "white",
            "ticks": ""
           },
           "bgcolor": "#E5ECF6",
           "radialaxis": {
            "gridcolor": "white",
            "linecolor": "white",
            "ticks": ""
           }
          },
          "scene": {
           "xaxis": {
            "backgroundcolor": "#E5ECF6",
            "gridcolor": "white",
            "gridwidth": 2,
            "linecolor": "white",
            "showbackground": true,
            "ticks": "",
            "zerolinecolor": "white"
           },
           "yaxis": {
            "backgroundcolor": "#E5ECF6",
            "gridcolor": "white",
            "gridwidth": 2,
            "linecolor": "white",
            "showbackground": true,
            "ticks": "",
            "zerolinecolor": "white"
           },
           "zaxis": {
            "backgroundcolor": "#E5ECF6",
            "gridcolor": "white",
            "gridwidth": 2,
            "linecolor": "white",
            "showbackground": true,
            "ticks": "",
            "zerolinecolor": "white"
           }
          },
          "shapedefaults": {
           "line": {
            "color": "#2a3f5f"
           }
          },
          "ternary": {
           "aaxis": {
            "gridcolor": "white",
            "linecolor": "white",
            "ticks": ""
           },
           "baxis": {
            "gridcolor": "white",
            "linecolor": "white",
            "ticks": ""
           },
           "bgcolor": "#E5ECF6",
           "caxis": {
            "gridcolor": "white",
            "linecolor": "white",
            "ticks": ""
           }
          },
          "title": {
           "x": 0.05
          },
          "xaxis": {
           "automargin": true,
           "gridcolor": "white",
           "linecolor": "white",
           "ticks": "",
           "title": {
            "standoff": 15
           },
           "zerolinecolor": "white",
           "zerolinewidth": 2
          },
          "yaxis": {
           "automargin": true,
           "gridcolor": "white",
           "linecolor": "white",
           "ticks": "",
           "title": {
            "standoff": 15
           },
           "zerolinecolor": "white",
           "zerolinewidth": 2
          }
         }
        },
        "width": 900
       }
      }
     },
     "metadata": {},
     "output_type": "display_data"
    }
   ],
   "source": [
    "## Create a figure with plotly.graph_objects\n",
    "fig = go.Figure()\n",
    "\n",
    "fig = px.scatter_mapbox(df[:1], lat='lat', lon='lon', zoom=12)\n",
    "fig.update_layout(\n",
    "                 mapbox_layers = [\n",
    "                {\n",
    "                    \"sourcetype\": \"image\",\n",
    "                    \"source\": img,\n",
    "                    \"coordinates\": coordinates\n",
    "                }]\n",
    ")\n",
    "\n",
    "\n",
    "fig.update_layout(mapbox_style=\"stamen-terrain\", mapbox_center_lon=-50, mapbox_center_lat=-20, mapbox_zoom=3)\n",
    "fig.update_layout(height=600,width=900, margin={\"r\":0,\"t\":40,\"l\":100,\"b\":0,\"pad\":0})\n",
    "fig.show()"
   ]
  }
 ],
 "metadata": {
  "kernelspec": {
   "display_name": "pyfortrack",
   "language": "python",
   "name": "python3"
  },
  "language_info": {
   "codemirror_mode": {
    "name": "ipython",
    "version": 3
   },
   "file_extension": ".py",
   "mimetype": "text/x-python",
   "name": "python",
   "nbconvert_exporter": "python",
   "pygments_lexer": "ipython3",
   "version": "3.10.8"
  },
  "orig_nbformat": 4,
  "vscode": {
   "interpreter": {
    "hash": "48ef6ef79c1e9a18a60d81d189cbe8aa70fcd759028160d21e405de87df264b3"
   }
  }
 },
 "nbformat": 4,
 "nbformat_minor": 2
}
